{
  "nbformat": 4,
  "nbformat_minor": 0,
  "metadata": {
    "colab": {
      "provenance": []
    },
    "kernelspec": {
      "name": "python3",
      "display_name": "Python 3"
    },
    "language_info": {
      "name": "python"
    }
  },
  "cells": [
    {
      "cell_type": "markdown",
      "metadata": {
        "id": "Zb9uWNWaYbkD"
      },
      "source": [
        "## Python project\n",
        "*read and analyse data with panda and sklearn\n",
        "\n"
      ]
    },
    {
      "cell_type": "code",
      "metadata": {
        "id": "CwP4_mdqYW01"
      },
      "source": [
        "import os \n",
        "import numpy as np \n",
        "import pandas as pd\n",
        "import matplotlib.pyplot as plt\n",
        "from sklearn import datasets\n",
        "\n"
      ],
      "execution_count": null,
      "outputs": []
    },
    {
      "cell_type": "code",
      "metadata": {
        "colab": {
          "resources": {
            "http://localhost:8080/nbextensions/google.colab/files.js": {
              "data": "Ly8gQ29weXJpZ2h0IDIwMTcgR29vZ2xlIExMQwovLwovLyBMaWNlbnNlZCB1bmRlciB0aGUgQXBhY2hlIExpY2Vuc2UsIFZlcnNpb24gMi4wICh0aGUgIkxpY2Vuc2UiKTsKLy8geW91IG1heSBub3QgdXNlIHRoaXMgZmlsZSBleGNlcHQgaW4gY29tcGxpYW5jZSB3aXRoIHRoZSBMaWNlbnNlLgovLyBZb3UgbWF5IG9idGFpbiBhIGNvcHkgb2YgdGhlIExpY2Vuc2UgYXQKLy8KLy8gICAgICBodHRwOi8vd3d3LmFwYWNoZS5vcmcvbGljZW5zZXMvTElDRU5TRS0yLjAKLy8KLy8gVW5sZXNzIHJlcXVpcmVkIGJ5IGFwcGxpY2FibGUgbGF3IG9yIGFncmVlZCB0byBpbiB3cml0aW5nLCBzb2Z0d2FyZQovLyBkaXN0cmlidXRlZCB1bmRlciB0aGUgTGljZW5zZSBpcyBkaXN0cmlidXRlZCBvbiBhbiAiQVMgSVMiIEJBU0lTLAovLyBXSVRIT1VUIFdBUlJBTlRJRVMgT1IgQ09ORElUSU9OUyBPRiBBTlkgS0lORCwgZWl0aGVyIGV4cHJlc3Mgb3IgaW1wbGllZC4KLy8gU2VlIHRoZSBMaWNlbnNlIGZvciB0aGUgc3BlY2lmaWMgbGFuZ3VhZ2UgZ292ZXJuaW5nIHBlcm1pc3Npb25zIGFuZAovLyBsaW1pdGF0aW9ucyB1bmRlciB0aGUgTGljZW5zZS4KCi8qKgogKiBAZmlsZW92ZXJ2aWV3IEhlbHBlcnMgZm9yIGdvb2dsZS5jb2xhYiBQeXRob24gbW9kdWxlLgogKi8KKGZ1bmN0aW9uKHNjb3BlKSB7CmZ1bmN0aW9uIHNwYW4odGV4dCwgc3R5bGVBdHRyaWJ1dGVzID0ge30pIHsKICBjb25zdCBlbGVtZW50ID0gZG9jdW1lbnQuY3JlYXRlRWxlbWVudCgnc3BhbicpOwogIGVsZW1lbnQudGV4dENvbnRlbnQgPSB0ZXh0OwogIGZvciAoY29uc3Qga2V5IG9mIE9iamVjdC5rZXlzKHN0eWxlQXR0cmlidXRlcykpIHsKICAgIGVsZW1lbnQuc3R5bGVba2V5XSA9IHN0eWxlQXR0cmlidXRlc1trZXldOwogIH0KICByZXR1cm4gZWxlbWVudDsKfQoKLy8gTWF4IG51bWJlciBvZiBieXRlcyB3aGljaCB3aWxsIGJlIHVwbG9hZGVkIGF0IGEgdGltZS4KY29uc3QgTUFYX1BBWUxPQURfU0laRSA9IDEwMCAqIDEwMjQ7CgpmdW5jdGlvbiBfdXBsb2FkRmlsZXMoaW5wdXRJZCwgb3V0cHV0SWQpIHsKICBjb25zdCBzdGVwcyA9IHVwbG9hZEZpbGVzU3RlcChpbnB1dElkLCBvdXRwdXRJZCk7CiAgY29uc3Qgb3V0cHV0RWxlbWVudCA9IGRvY3VtZW50LmdldEVsZW1lbnRCeUlkKG91dHB1dElkKTsKICAvLyBDYWNoZSBzdGVwcyBvbiB0aGUgb3V0cHV0RWxlbWVudCB0byBtYWtlIGl0IGF2YWlsYWJsZSBmb3IgdGhlIG5leHQgY2FsbAogIC8vIHRvIHVwbG9hZEZpbGVzQ29udGludWUgZnJvbSBQeXRob24uCiAgb3V0cHV0RWxlbWVudC5zdGVwcyA9IHN0ZXBzOwoKICByZXR1cm4gX3VwbG9hZEZpbGVzQ29udGludWUob3V0cHV0SWQpOwp9CgovLyBUaGlzIGlzIHJvdWdobHkgYW4gYXN5bmMgZ2VuZXJhdG9yIChub3Qgc3VwcG9ydGVkIGluIHRoZSBicm93c2VyIHlldCksCi8vIHdoZXJlIHRoZXJlIGFyZSBtdWx0aXBsZSBhc3luY2hyb25vdXMgc3RlcHMgYW5kIHRoZSBQeXRob24gc2lkZSBpcyBnb2luZwovLyB0byBwb2xsIGZvciBjb21wbGV0aW9uIG9mIGVhY2ggc3RlcC4KLy8gVGhpcyB1c2VzIGEgUHJvbWlzZSB0byBibG9jayB0aGUgcHl0aG9uIHNpZGUgb24gY29tcGxldGlvbiBvZiBlYWNoIHN0ZXAsCi8vIHRoZW4gcGFzc2VzIHRoZSByZXN1bHQgb2YgdGhlIHByZXZpb3VzIHN0ZXAgYXMgdGhlIGlucHV0IHRvIHRoZSBuZXh0IHN0ZXAuCmZ1bmN0aW9uIF91cGxvYWRGaWxlc0NvbnRpbnVlKG91dHB1dElkKSB7CiAgY29uc3Qgb3V0cHV0RWxlbWVudCA9IGRvY3VtZW50LmdldEVsZW1lbnRCeUlkKG91dHB1dElkKTsKICBjb25zdCBzdGVwcyA9IG91dHB1dEVsZW1lbnQuc3RlcHM7CgogIGNvbnN0IG5leHQgPSBzdGVwcy5uZXh0KG91dHB1dEVsZW1lbnQubGFzdFByb21pc2VWYWx1ZSk7CiAgcmV0dXJuIFByb21pc2UucmVzb2x2ZShuZXh0LnZhbHVlLnByb21pc2UpLnRoZW4oKHZhbHVlKSA9PiB7CiAgICAvLyBDYWNoZSB0aGUgbGFzdCBwcm9taXNlIHZhbHVlIHRvIG1ha2UgaXQgYXZhaWxhYmxlIHRvIHRoZSBuZXh0CiAgICAvLyBzdGVwIG9mIHRoZSBnZW5lcmF0b3IuCiAgICBvdXRwdXRFbGVtZW50Lmxhc3RQcm9taXNlVmFsdWUgPSB2YWx1ZTsKICAgIHJldHVybiBuZXh0LnZhbHVlLnJlc3BvbnNlOwogIH0pOwp9CgovKioKICogR2VuZXJhdG9yIGZ1bmN0aW9uIHdoaWNoIGlzIGNhbGxlZCBiZXR3ZWVuIGVhY2ggYXN5bmMgc3RlcCBvZiB0aGUgdXBsb2FkCiAqIHByb2Nlc3MuCiAqIEBwYXJhbSB7c3RyaW5nfSBpbnB1dElkIEVsZW1lbnQgSUQgb2YgdGhlIGlucHV0IGZpbGUgcGlja2VyIGVsZW1lbnQuCiAqIEBwYXJhbSB7c3RyaW5nfSBvdXRwdXRJZCBFbGVtZW50IElEIG9mIHRoZSBvdXRwdXQgZGlzcGxheS4KICogQHJldHVybiB7IUl0ZXJhYmxlPCFPYmplY3Q+fSBJdGVyYWJsZSBvZiBuZXh0IHN0ZXBzLgogKi8KZnVuY3Rpb24qIHVwbG9hZEZpbGVzU3RlcChpbnB1dElkLCBvdXRwdXRJZCkgewogIGNvbnN0IGlucHV0RWxlbWVudCA9IGRvY3VtZW50LmdldEVsZW1lbnRCeUlkKGlucHV0SWQpOwogIGlucHV0RWxlbWVudC5kaXNhYmxlZCA9IGZhbHNlOwoKICBjb25zdCBvdXRwdXRFbGVtZW50ID0gZG9jdW1lbnQuZ2V0RWxlbWVudEJ5SWQob3V0cHV0SWQpOwogIG91dHB1dEVsZW1lbnQuaW5uZXJIVE1MID0gJyc7CgogIGNvbnN0IHBpY2tlZFByb21pc2UgPSBuZXcgUHJvbWlzZSgocmVzb2x2ZSkgPT4gewogICAgaW5wdXRFbGVtZW50LmFkZEV2ZW50TGlzdGVuZXIoJ2NoYW5nZScsIChlKSA9PiB7CiAgICAgIHJlc29sdmUoZS50YXJnZXQuZmlsZXMpOwogICAgfSk7CiAgfSk7CgogIGNvbnN0IGNhbmNlbCA9IGRvY3VtZW50LmNyZWF0ZUVsZW1lbnQoJ2J1dHRvbicpOwogIGlucHV0RWxlbWVudC5wYXJlbnRFbGVtZW50LmFwcGVuZENoaWxkKGNhbmNlbCk7CiAgY2FuY2VsLnRleHRDb250ZW50ID0gJ0NhbmNlbCB1cGxvYWQnOwogIGNvbnN0IGNhbmNlbFByb21pc2UgPSBuZXcgUHJvbWlzZSgocmVzb2x2ZSkgPT4gewogICAgY2FuY2VsLm9uY2xpY2sgPSAoKSA9PiB7CiAgICAgIHJlc29sdmUobnVsbCk7CiAgICB9OwogIH0pOwoKICAvLyBXYWl0IGZvciB0aGUgdXNlciB0byBwaWNrIHRoZSBmaWxlcy4KICBjb25zdCBmaWxlcyA9IHlpZWxkIHsKICAgIHByb21pc2U6IFByb21pc2UucmFjZShbcGlja2VkUHJvbWlzZSwgY2FuY2VsUHJvbWlzZV0pLAogICAgcmVzcG9uc2U6IHsKICAgICAgYWN0aW9uOiAnc3RhcnRpbmcnLAogICAgfQogIH07CgogIGNhbmNlbC5yZW1vdmUoKTsKCiAgLy8gRGlzYWJsZSB0aGUgaW5wdXQgZWxlbWVudCBzaW5jZSBmdXJ0aGVyIHBpY2tzIGFyZSBub3QgYWxsb3dlZC4KICBpbnB1dEVsZW1lbnQuZGlzYWJsZWQgPSB0cnVlOwoKICBpZiAoIWZpbGVzKSB7CiAgICByZXR1cm4gewogICAgICByZXNwb25zZTogewogICAgICAgIGFjdGlvbjogJ2NvbXBsZXRlJywKICAgICAgfQogICAgfTsKICB9CgogIGZvciAoY29uc3QgZmlsZSBvZiBmaWxlcykgewogICAgY29uc3QgbGkgPSBkb2N1bWVudC5jcmVhdGVFbGVtZW50KCdsaScpOwogICAgbGkuYXBwZW5kKHNwYW4oZmlsZS5uYW1lLCB7Zm9udFdlaWdodDogJ2JvbGQnfSkpOwogICAgbGkuYXBwZW5kKHNwYW4oCiAgICAgICAgYCgke2ZpbGUudHlwZSB8fCAnbi9hJ30pIC0gJHtmaWxlLnNpemV9IGJ5dGVzLCBgICsKICAgICAgICBgbGFzdCBtb2RpZmllZDogJHsKICAgICAgICAgICAgZmlsZS5sYXN0TW9kaWZpZWREYXRlID8gZmlsZS5sYXN0TW9kaWZpZWREYXRlLnRvTG9jYWxlRGF0ZVN0cmluZygpIDoKICAgICAgICAgICAgICAgICAgICAgICAgICAgICAgICAgICAgJ24vYSd9IC0gYCkpOwogICAgY29uc3QgcGVyY2VudCA9IHNwYW4oJzAlIGRvbmUnKTsKICAgIGxpLmFwcGVuZENoaWxkKHBlcmNlbnQpOwoKICAgIG91dHB1dEVsZW1lbnQuYXBwZW5kQ2hpbGQobGkpOwoKICAgIGNvbnN0IGZpbGVEYXRhUHJvbWlzZSA9IG5ldyBQcm9taXNlKChyZXNvbHZlKSA9PiB7CiAgICAgIGNvbnN0IHJlYWRlciA9IG5ldyBGaWxlUmVhZGVyKCk7CiAgICAgIHJlYWRlci5vbmxvYWQgPSAoZSkgPT4gewogICAgICAgIHJlc29sdmUoZS50YXJnZXQucmVzdWx0KTsKICAgICAgfTsKICAgICAgcmVhZGVyLnJlYWRBc0FycmF5QnVmZmVyKGZpbGUpOwogICAgfSk7CiAgICAvLyBXYWl0IGZvciB0aGUgZGF0YSB0byBiZSByZWFkeS4KICAgIGxldCBmaWxlRGF0YSA9IHlpZWxkIHsKICAgICAgcHJvbWlzZTogZmlsZURhdGFQcm9taXNlLAogICAgICByZXNwb25zZTogewogICAgICAgIGFjdGlvbjogJ2NvbnRpbnVlJywKICAgICAgfQogICAgfTsKCiAgICAvLyBVc2UgYSBjaHVua2VkIHNlbmRpbmcgdG8gYXZvaWQgbWVzc2FnZSBzaXplIGxpbWl0cy4gU2VlIGIvNjIxMTU2NjAuCiAgICBsZXQgcG9zaXRpb24gPSAwOwogICAgd2hpbGUgKHBvc2l0aW9uIDwgZmlsZURhdGEuYnl0ZUxlbmd0aCkgewogICAgICBjb25zdCBsZW5ndGggPSBNYXRoLm1pbihmaWxlRGF0YS5ieXRlTGVuZ3RoIC0gcG9zaXRpb24sIE1BWF9QQVlMT0FEX1NJWkUpOwogICAgICBjb25zdCBjaHVuayA9IG5ldyBVaW50OEFycmF5KGZpbGVEYXRhLCBwb3NpdGlvbiwgbGVuZ3RoKTsKICAgICAgcG9zaXRpb24gKz0gbGVuZ3RoOwoKICAgICAgY29uc3QgYmFzZTY0ID0gYnRvYShTdHJpbmcuZnJvbUNoYXJDb2RlLmFwcGx5KG51bGwsIGNodW5rKSk7CiAgICAgIHlpZWxkIHsKICAgICAgICByZXNwb25zZTogewogICAgICAgICAgYWN0aW9uOiAnYXBwZW5kJywKICAgICAgICAgIGZpbGU6IGZpbGUubmFtZSwKICAgICAgICAgIGRhdGE6IGJhc2U2NCwKICAgICAgICB9LAogICAgICB9OwogICAgICBwZXJjZW50LnRleHRDb250ZW50ID0KICAgICAgICAgIGAke01hdGgucm91bmQoKHBvc2l0aW9uIC8gZmlsZURhdGEuYnl0ZUxlbmd0aCkgKiAxMDApfSUgZG9uZWA7CiAgICB9CiAgfQoKICAvLyBBbGwgZG9uZS4KICB5aWVsZCB7CiAgICByZXNwb25zZTogewogICAgICBhY3Rpb246ICdjb21wbGV0ZScsCiAgICB9CiAgfTsKfQoKc2NvcGUuZ29vZ2xlID0gc2NvcGUuZ29vZ2xlIHx8IHt9OwpzY29wZS5nb29nbGUuY29sYWIgPSBzY29wZS5nb29nbGUuY29sYWIgfHwge307CnNjb3BlLmdvb2dsZS5jb2xhYi5fZmlsZXMgPSB7CiAgX3VwbG9hZEZpbGVzLAogIF91cGxvYWRGaWxlc0NvbnRpbnVlLAp9Owp9KShzZWxmKTsK",
              "ok": true,
              "headers": [
                [
                  "content-type",
                  "application/javascript"
                ]
              ],
              "status": 200,
              "status_text": ""
            }
          },
          "base_uri": "https://localhost:8080/",
          "height": 72
        },
        "id": "f40eCALAp_gb",
        "outputId": "10f09d6c-9e41-415f-a2ab-04f0b730131b"
      },
      "source": [
        "from google.colab import files\n",
        "uploaded = files.upload()"
      ],
      "execution_count": null,
      "outputs": [
        {
          "output_type": "display_data",
          "data": {
            "text/html": [
              "\n",
              "     <input type=\"file\" id=\"files-07d582df-b647-4091-8c7d-340807a962a2\" name=\"files[]\" multiple disabled\n",
              "        style=\"border:none\" />\n",
              "     <output id=\"result-07d582df-b647-4091-8c7d-340807a962a2\">\n",
              "      Upload widget is only available when the cell has been executed in the\n",
              "      current browser session. Please rerun this cell to enable.\n",
              "      </output>\n",
              "      <script src=\"/nbextensions/google.colab/files.js\"></script> "
            ],
            "text/plain": [
              "<IPython.core.display.HTML object>"
            ]
          },
          "metadata": {
            "tags": []
          }
        },
        {
          "output_type": "stream",
          "text": [
            "Saving 100mTrackResult.csv to 100mTrackResult (1).csv\n"
          ],
          "name": "stdout"
        }
      ]
    },
    {
      "cell_type": "code",
      "metadata": {
        "colab": {
          "base_uri": "https://localhost:8080/",
          "height": 197
        },
        "id": "6RSeeC9k0l8m",
        "outputId": "0c12c534-f00f-4bc6-bb63-921a7e610630"
      },
      "source": [
        "import io\n",
        "data = io.BytesIO(uploaded[\"100mTrackResult.csv\"])\n",
        "df=pd.read_csv(data,header=0)\n",
        "df.columns\n",
        "df.head()\n"
      ],
      "execution_count": null,
      "outputs": [
        {
          "output_type": "execute_result",
          "data": {
            "text/html": [
              "<div>\n",
              "<style scoped>\n",
              "    .dataframe tbody tr th:only-of-type {\n",
              "        vertical-align: middle;\n",
              "    }\n",
              "\n",
              "    .dataframe tbody tr th {\n",
              "        vertical-align: top;\n",
              "    }\n",
              "\n",
              "    .dataframe thead th {\n",
              "        text-align: right;\n",
              "    }\n",
              "</style>\n",
              "<table border=\"1\" class=\"dataframe\">\n",
              "  <thead>\n",
              "    <tr style=\"text-align: right;\">\n",
              "      <th></th>\n",
              "      <th>Name</th>\n",
              "      <th>Location</th>\n",
              "      <th>Year</th>\n",
              "      <th>Medal</th>\n",
              "      <th>Nationality</th>\n",
              "      <th>Result</th>\n",
              "    </tr>\n",
              "  </thead>\n",
              "  <tbody>\n",
              "    <tr>\n",
              "      <th>0</th>\n",
              "      <td>Usain BOLT</td>\n",
              "      <td>Rio</td>\n",
              "      <td>2016</td>\n",
              "      <td>1</td>\n",
              "      <td>JAM</td>\n",
              "      <td>9.81</td>\n",
              "    </tr>\n",
              "    <tr>\n",
              "      <th>1</th>\n",
              "      <td>Justin GATLIN</td>\n",
              "      <td>Rio</td>\n",
              "      <td>2016</td>\n",
              "      <td>2</td>\n",
              "      <td>USA</td>\n",
              "      <td>9.89</td>\n",
              "    </tr>\n",
              "    <tr>\n",
              "      <th>2</th>\n",
              "      <td>Andre DE GRASSE</td>\n",
              "      <td>Rio</td>\n",
              "      <td>2016</td>\n",
              "      <td>3</td>\n",
              "      <td>CAN</td>\n",
              "      <td>9.91</td>\n",
              "    </tr>\n",
              "    <tr>\n",
              "      <th>3</th>\n",
              "      <td>Usain BOLT</td>\n",
              "      <td>London</td>\n",
              "      <td>2012</td>\n",
              "      <td>1</td>\n",
              "      <td>JAM</td>\n",
              "      <td>9.63</td>\n",
              "    </tr>\n",
              "    <tr>\n",
              "      <th>4</th>\n",
              "      <td>Yohan BLAKE</td>\n",
              "      <td>London</td>\n",
              "      <td>2012</td>\n",
              "      <td>2</td>\n",
              "      <td>JAM</td>\n",
              "      <td>9.75</td>\n",
              "    </tr>\n",
              "  </tbody>\n",
              "</table>\n",
              "</div>"
            ],
            "text/plain": [
              "              Name Location  Year  Medal Nationality  Result\n",
              "0       Usain BOLT      Rio  2016      1         JAM    9.81\n",
              "1    Justin GATLIN      Rio  2016      2         USA    9.89\n",
              "2  Andre DE GRASSE      Rio  2016      3         CAN    9.91\n",
              "3       Usain BOLT   London  2012      1         JAM    9.63\n",
              "4      Yohan BLAKE   London  2012      2         JAM    9.75"
            ]
          },
          "metadata": {
            "tags": []
          },
          "execution_count": 105
        }
      ]
    },
    {
      "cell_type": "code",
      "metadata": {
        "colab": {
          "base_uri": "https://localhost:8080/",
          "height": 281
        },
        "id": "Kfw6qoLgF0Ta",
        "outputId": "9fde9fa1-ffd3-4af4-bbee-159fc208ce40"
      },
      "source": [
        "plt.scatter(df.Year,df.Result)\n",
        "plt.xlabel=(\"Year\")\n",
        "plt.ylabel=(\"Result\")\n",
        "plt.yticks(df.Result[9:12:1])\n",
        "plt.title(\"100m track performances over time\")\n",
        "\n",
        "\n",
        "plt.show()\n"
      ],
      "execution_count": null,
      "outputs": [
        {
          "output_type": "display_data",
          "data": {
            "image/png": "[encoded data removed]",
            "text/plain": [
              "<Figure size 432x288 with 1 Axes>"
            ]
          },
          "metadata": {
            "tags": [],
            "needs_background": "light"
          }
        }
      ]
    },
    {
      "cell_type": "code",
      "metadata": {
        "colab": {
          "base_uri": "https://localhost:8080/",
          "height": 128
        },
        "id": "ZOQRdub3icsO",
        "outputId": "da6c5d9c-219a-48af-d968-8f957711a76c"
      },
      "source": [
        "x=np.where(df.Result<10)\n",
        "print(x)\n",
        "y=np.select(df.Result,"
      ],
      "execution_count": null,
      "outputs": [
        {
          "output_type": "error",
          "ename": "SyntaxError",
          "evalue": "ignored",
          "traceback": [
            "\u001b[0;36m  File \u001b[0;32m\"<ipython-input-139-6a5d6a5b70b7>\"\u001b[0;36m, line \u001b[0;32m4\u001b[0m\n\u001b[0;31m    18, 21, 33]))\u001b[0m\n\u001b[0m                ^\u001b[0m\n\u001b[0;31mSyntaxError\u001b[0m\u001b[0;31m:\u001b[0m invalid syntax\n"
          ]
        }
      ]
    },
    {
      "cell_type": "code",
      "source": [],
      "metadata": {
        "id": "Z24CqqmHUQFy"
      },
      "execution_count": null,
      "outputs": []
    },
    {
      "cell_type": "code",
      "metadata": {
        "colab": {
          "base_uri": "https://localhost:8080/",
          "height": 298
        },
        "id": "Hdw-n-ktg_LX",
        "outputId": "0b23ce46-0d0a-4f26-fc5d-76cd36034ca7"
      },
      "source": [
        "#Non linear regression\n",
        "from scipy.optimize import curve_fit\n",
        "from matplotlib import pyplot\n",
        "xx=df.Year.values\n",
        "yy=df.Result.values\n",
        "polymodel = np.poly1d(np.polyfit(xx, yy, 3))\n",
        "print(\"polyfit eq:\", polymodel)\n",
        "plt.scatter(xx, yy)\n",
        "plt.plot(xx, polymodel(xx),'r',label='polyfit')\n",
        "plt.legend()\n",
        "plt.show()\n",
        "\n",
        "#pyplot.plot(x_line, y_line, '--', color='red')\n",
        "#pyplot.show()\n"
      ],
      "execution_count": null,
      "outputs": [
        {
          "output_type": "stream",
          "text": [
            "polyfit eq:             3           2\n",
            "-3.425e-06 x + 0.02023 x - 39.85 x + 2.617e+04\n"
          ],
          "name": "stdout"
        },
        {
          "output_type": "display_data",
          "data": {
            "image/png": "[encoded data removed]",
            "text/plain": [
              "<Figure size 432x288 with 1 Axes>"
            ]
          },
          "metadata": {
            "tags": [],
            "needs_background": "light"
          }
        }
      ]
    },
    {
      "cell_type": "code",
      "metadata": {
        "colab": {
          "base_uri": "https://localhost:8080/",
          "height": 332
        },
        "id": "af-BdkouG3YN",
        "outputId": "70a1834e-216e-46fe-b251-8e2aa31dd136"
      },
      "source": [
        "def func(x, a, b, c):\n",
        "    return a * np.log(b*x) + c\n",
        "popt, pcov = curve_fit(func, xx, yy)\n",
        "print(popt)\n",
        "plt.plot(xx, func(xx, *popt), 'g--',label='curvefit')\n"
      ],
      "execution_count": null,
      "outputs": [
        {
          "output_type": "stream",
          "text": [
            "[-2.72853136e+01  3.46250074e-03  6.26351360e+01]\n"
          ],
          "name": "stdout"
        },
        {
          "output_type": "stream",
          "text": [
            "/usr/local/lib/python3.7/dist-packages/scipy/optimize/minpack.py:808: OptimizeWarning: Covariance of the parameters could not be estimated\n",
            "  category=OptimizeWarning)\n"
          ],
          "name": "stderr"
        },
        {
          "output_type": "execute_result",
          "data": {
            "text/plain": [
              "[<matplotlib.lines.Line2D at 0x7fdf64ab35d0>]"
            ]
          },
          "metadata": {
            "tags": []
          },
          "execution_count": 108
        },
        {
          "output_type": "display_data",
          "data": {
            "image/png": "[encoded data removed]",
            "text/plain": [
              "<Figure size 432x288 with 1 Axes>"
            ]
          },
          "metadata": {
            "tags": [],
            "needs_background": "light"
          }
        }
      ]
    },
    {
      "cell_type": "markdown",
      "metadata": {
        "id": "Hxxqn-qrUT5E"
      },
      "source": [
        "#Pie Chart"
      ]
    },
    {
      "cell_type": "code",
      "metadata": {
        "colab": {
          "base_uri": "https://localhost:8080/",
          "height": 264
        },
        "id": "HDxV2Ee2UR0p",
        "outputId": "4d138f28-59ab-4310-d02e-fea8ee877f95"
      },
      "source": [
        "df.Nationality\n",
        "JAM=df.loc[df[\"Nationality\"]==\"JAM\"].count()[0]\n",
        "USA=df.loc[df[\"Nationality\"]==\"USA\"].count()[0]\n",
        "CAN=df.loc[df[\"Nationality\"]==\"CAN\"].count()[0]\n",
        "CUB=df.loc[df[\"Nationality\"]==\"CUB\"].count()[0]\n",
        "GBR=df.loc[df[\"Nationality\"]==\"CUB\"].count()[0]\n",
        "TTO=df.loc[df[\"Nationality\"]==\"TTO\"].count()[0]\n",
        "BAR=df.loc[df[\"Nationality\"]==\"BAR\"].count()[0]\n",
        "POR=df.loc[df[\"Nationality\"]==\"POR\"].count()[0]\n",
        "BUL=df.loc[df[\"Nationality\"]==\"BUL\"].count()[0]\n",
        "NAM=df.loc[df[\"Nationality\"]==\"NAM\"].count()[0]\n",
        "\n",
        "labels =['JAM','USA','CAN','CUB','GBR','TTO','BAR','POR','BUL','NAM']\n",
        "colors=['#8ecc00','#2065d3','#dc6d1e','#e2d933','#1eb4dc','#eb9321','#dc1ed5','#711b38','#c977cd','#5486d6']\n",
        "plt.title(\"distribution of medals by country 1980-2016\")\n",
        "plt.pie([JAM,USA,CAN,CUB,GBR,TTO,BAR,POR,BUL,NAM],labels=labels,colors=colors)\n",
        "plt.show()\n",
        "\n",
        "\n",
        "\n"
      ],
      "execution_count": null,
      "outputs": [
        {
          "output_type": "display_data",
          "data": {
            "image/png": "[encoded data removed]",
            "text/plain": [
              "<Figure size 432x288 with 1 Axes>"
            ]
          },
          "metadata": {
            "tags": []
          }
        }
      ]
    },
    {
      "cell_type": "markdown",
      "metadata": {
        "id": "EWyC9C6xklMz"
      },
      "source": [
        "#Nationality\\Medal colums predection -\n",
        "assuming the other data will be sufficient enogh"
      ]
    },
    {
      "cell_type": "code",
      "metadata": {
        "colab": {
          "base_uri": "https://localhost:8080/",
          "height": 197
        },
        "id": "erLy-mIgkiYO",
        "outputId": "9c21f922-e4c0-4041-d63e-d96dca3e7968"
      },
      "source": [
        "df.columns\n",
        "xy=df[[ 'Year', 'Medal', 'Nationality','Result']]\n",
        "xy.head()"
      ],
      "execution_count": null,
      "outputs": [
        {
          "output_type": "execute_result",
          "data": {
            "text/html": [
              "<div>\n",
              "<style scoped>\n",
              "    .dataframe tbody tr th:only-of-type {\n",
              "        vertical-align: middle;\n",
              "    }\n",
              "\n",
              "    .dataframe tbody tr th {\n",
              "        vertical-align: top;\n",
              "    }\n",
              "\n",
              "    .dataframe thead th {\n",
              "        text-align: right;\n",
              "    }\n",
              "</style>\n",
              "<table border=\"1\" class=\"dataframe\">\n",
              "  <thead>\n",
              "    <tr style=\"text-align: right;\">\n",
              "      <th></th>\n",
              "      <th>Year</th>\n",
              "      <th>Medal</th>\n",
              "      <th>Nationality</th>\n",
              "      <th>Result</th>\n",
              "    </tr>\n",
              "  </thead>\n",
              "  <tbody>\n",
              "    <tr>\n",
              "      <th>0</th>\n",
              "      <td>2016</td>\n",
              "      <td>1</td>\n",
              "      <td>JAM</td>\n",
              "      <td>9.81</td>\n",
              "    </tr>\n",
              "    <tr>\n",
              "      <th>1</th>\n",
              "      <td>2016</td>\n",
              "      <td>2</td>\n",
              "      <td>USA</td>\n",
              "      <td>9.89</td>\n",
              "    </tr>\n",
              "    <tr>\n",
              "      <th>2</th>\n",
              "      <td>2016</td>\n",
              "      <td>3</td>\n",
              "      <td>CAN</td>\n",
              "      <td>9.91</td>\n",
              "    </tr>\n",
              "    <tr>\n",
              "      <th>3</th>\n",
              "      <td>2012</td>\n",
              "      <td>1</td>\n",
              "      <td>JAM</td>\n",
              "      <td>9.63</td>\n",
              "    </tr>\n",
              "    <tr>\n",
              "      <th>4</th>\n",
              "      <td>2012</td>\n",
              "      <td>2</td>\n",
              "      <td>JAM</td>\n",
              "      <td>9.75</td>\n",
              "    </tr>\n",
              "  </tbody>\n",
              "</table>\n",
              "</div>"
            ],
            "text/plain": [
              "   Year  Medal Nationality  Result\n",
              "0  2016      1         JAM    9.81\n",
              "1  2016      2         USA    9.89\n",
              "2  2016      3         CAN    9.91\n",
              "3  2012      1         JAM    9.63\n",
              "4  2012      2         JAM    9.75"
            ]
          },
          "metadata": {
            "tags": []
          },
          "execution_count": 110
        }
      ]
    },
    {
      "cell_type": "code",
      "metadata": {
        "colab": {
          "base_uri": "https://localhost:8080/",
          "height": 297
        },
        "id": "X9pOLXrL6cqK",
        "outputId": "85cbcb74-28d4-421f-ef66-61eb6f2f0ca0"
      },
      "source": [
        "#mapping nationality to numerical values\n",
        "xy.Nationality.unique()\n",
        "np.arange(len(xy.Nationality.unique()))\n",
        "pd.DataFrame(np.vstack([np.arange(len(xy.Nationality.unique())),xy.Nationality.unique()])).T.set_index(1).to_dict()[0]\n",
        "#previous\n",
        "#xy.Nationality.unique()\n",
        "mapping_dict1=pd.DataFrame(np.vstack([np.arange(len(xy.Nationality.unique())),xy.Nationality.unique()])).T.set_index(1).to_dict()[0]\n",
        "xy.Nationality=xy.Nationality.map(mapping_dict1)\n",
        "type(xy.Nationality)\n",
        "xy.head()\n",
        "\n",
        "\n"
      ],
      "execution_count": null,
      "outputs": [
        {
          "output_type": "stream",
          "text": [
            "/usr/local/lib/python3.7/dist-packages/pandas/core/generic.py:5170: SettingWithCopyWarning: \n",
            "A value is trying to be set on a copy of a slice from a DataFrame.\n",
            "Try using .loc[row_indexer,col_indexer] = value instead\n",
            "\n",
            "See the caveats in the documentation: https://pandas.pydata.org/pandas-docs/stable/user_guide/indexing.html#returning-a-view-versus-a-copy\n",
            "  self[name] = value\n"
          ],
          "name": "stderr"
        },
        {
          "output_type": "execute_result",
          "data": {
            "text/html": [
              "<div>\n",
              "<style scoped>\n",
              "    .dataframe tbody tr th:only-of-type {\n",
              "        vertical-align: middle;\n",
              "    }\n",
              "\n",
              "    .dataframe tbody tr th {\n",
              "        vertical-align: top;\n",
              "    }\n",
              "\n",
              "    .dataframe thead th {\n",
              "        text-align: right;\n",
              "    }\n",
              "</style>\n",
              "<table border=\"1\" class=\"dataframe\">\n",
              "  <thead>\n",
              "    <tr style=\"text-align: right;\">\n",
              "      <th></th>\n",
              "      <th>Year</th>\n",
              "      <th>Medal</th>\n",
              "      <th>Nationality</th>\n",
              "      <th>Result</th>\n",
              "    </tr>\n",
              "  </thead>\n",
              "  <tbody>\n",
              "    <tr>\n",
              "      <th>0</th>\n",
              "      <td>2016</td>\n",
              "      <td>1</td>\n",
              "      <td>0</td>\n",
              "      <td>9.81</td>\n",
              "    </tr>\n",
              "    <tr>\n",
              "      <th>1</th>\n",
              "      <td>2016</td>\n",
              "      <td>2</td>\n",
              "      <td>1</td>\n",
              "      <td>9.89</td>\n",
              "    </tr>\n",
              "    <tr>\n",
              "      <th>2</th>\n",
              "      <td>2016</td>\n",
              "      <td>3</td>\n",
              "      <td>2</td>\n",
              "      <td>9.91</td>\n",
              "    </tr>\n",
              "    <tr>\n",
              "      <th>3</th>\n",
              "      <td>2012</td>\n",
              "      <td>1</td>\n",
              "      <td>0</td>\n",
              "      <td>9.63</td>\n",
              "    </tr>\n",
              "    <tr>\n",
              "      <th>4</th>\n",
              "      <td>2012</td>\n",
              "      <td>2</td>\n",
              "      <td>0</td>\n",
              "      <td>9.75</td>\n",
              "    </tr>\n",
              "  </tbody>\n",
              "</table>\n",
              "</div>"
            ],
            "text/plain": [
              "   Year  Medal  Nationality  Result\n",
              "0  2016      1            0    9.81\n",
              "1  2016      2            1    9.89\n",
              "2  2016      3            2    9.91\n",
              "3  2012      1            0    9.63\n",
              "4  2012      2            0    9.75"
            ]
          },
          "metadata": {
            "tags": []
          },
          "execution_count": 111
        }
      ]
    },
    {
      "cell_type": "markdown",
      "metadata": {
        "id": "MTYBtmkGyVP1"
      },
      "source": [
        "* Train Test Split"
      ]
    },
    {
      "cell_type": "code",
      "metadata": {
        "colab": {
          "base_uri": "https://localhost:8080/"
        },
        "id": "Fchq1AjnwLGJ",
        "outputId": "560c3851-89d6-4184-88b9-7538b2bb6001"
      },
      "source": [
        "from sklearn.model_selection import train_test_split\n",
        "x=xy[xy.columns[[0,1,3]]] \n",
        "y=xy[xy.columns[-2]] \n",
        "#print(x)\n",
        "#print(y)\n",
        "x_train, x_test, y_train, y_test = train_test_split(x, y, test_size=0.33, random_state=42)\n",
        "from sklearn import tree\n",
        "Clf = tree.DecisionTreeClassifier()\n",
        "#training the model\n",
        "Clf.fit(x_train,y_train)\n"
      ],
      "execution_count": null,
      "outputs": [
        {
          "output_type": "execute_result",
          "data": {
            "text/plain": [
              "DecisionTreeClassifier(ccp_alpha=0.0, class_weight=None, criterion='gini',\n",
              "                       max_depth=None, max_features=None, max_leaf_nodes=None,\n",
              "                       min_impurity_decrease=0.0, min_impurity_split=None,\n",
              "                       min_samples_leaf=1, min_samples_split=2,\n",
              "                       min_weight_fraction_leaf=0.0, presort='deprecated',\n",
              "                       random_state=None, splitter='best')"
            ]
          },
          "metadata": {
            "tags": []
          },
          "execution_count": 112
        }
      ]
    },
    {
      "cell_type": "code",
      "metadata": {
        "colab": {
          "base_uri": "https://localhost:8080/"
        },
        "id": "qT30pXvr-S3f",
        "outputId": "cd0b8107-e7f6-4201-cb0a-08e9cfa52881"
      },
      "source": [
        "Clf.predict(x_test)"
      ],
      "execution_count": null,
      "outputs": [
        {
          "output_type": "execute_result",
          "data": {
            "text/plain": [
              "array([ 8,  2,  8,  8,  1,  3,  3,  1,  0,  6,  1,  1,  1,  1,  1,  0,  1,\n",
              "        7,  1, 11,  2,  1,  2, 13,  1,  7,  1])"
            ]
          },
          "metadata": {
            "tags": []
          },
          "execution_count": 113
        }
      ]
    },
    {
      "cell_type": "code",
      "metadata": {
        "colab": {
          "base_uri": "https://localhost:8080/"
        },
        "id": "j8bIhUBJHLjd",
        "outputId": "0effce9d-a2bb-4a95-80b2-fb574a7aa740"
      },
      "source": [
        "from sklearn.metrics import confusion_matrix\n",
        "confusion  = confusion_matrix(Clf.predict(x_test),  y_test)\n",
        "confusion"
      ],
      "execution_count": null,
      "outputs": [
        {
          "output_type": "execute_result",
          "data": {
            "text/plain": [
              "array([[ 1,  1,  0,  0,  0,  0,  0,  0,  0,  0,  0,  0],\n",
              "       [ 1, 10,  0,  0,  0,  0,  1,  0,  0,  0,  0,  0],\n",
              "       [ 1,  2,  0,  0,  0,  0,  0,  0,  0,  0,  0,  0],\n",
              "       [ 1,  0,  0,  0,  1,  0,  0,  0,  0,  0,  0,  0],\n",
              "       [ 0,  0,  0,  0,  0,  0,  0,  0,  0,  0,  0,  0],\n",
              "       [ 0,  1,  0,  0,  0,  0,  0,  0,  0,  0,  0,  0],\n",
              "       [ 0,  1,  0,  0,  0,  0,  0,  0,  0,  0,  0,  1],\n",
              "       [ 0,  2,  0,  0,  0,  0,  0,  0,  1,  0,  0,  0],\n",
              "       [ 0,  0,  0,  0,  0,  0,  0,  0,  0,  0,  0,  0],\n",
              "       [ 0,  1,  0,  0,  0,  0,  0,  0,  0,  0,  0,  0],\n",
              "       [ 0,  0,  0,  0,  0,  0,  1,  0,  0,  0,  0,  0],\n",
              "       [ 0,  0,  0,  0,  0,  0,  0,  0,  0,  0,  0,  0]])"
            ]
          },
          "metadata": {
            "tags": []
          },
          "execution_count": 114
        }
      ]
    },
    {
      "cell_type": "code",
      "metadata": {
        "colab": {
          "base_uri": "https://localhost:8080/"
        },
        "id": "NUmJckQ--1Jm",
        "outputId": "6eef519e-8af1-4851-8793-ad10ceac8cef"
      },
      "source": [
        "from sklearn.metrics import accuracy_score\n",
        "y_pred=Clf.predict(x_test)\n",
        "print(\"Accuracy:\",accuracy_score(y_test, y_pred))"
      ],
      "execution_count": null,
      "outputs": [
        {
          "output_type": "stream",
          "text": [
            "Accuracy: 0.4074074074074074\n"
          ],
          "name": "stdout"
        }
      ]
    },
    {
      "cell_type": "code",
      "metadata": {
        "colab": {
          "base_uri": "https://localhost:8080/"
        },
        "id": "NO32VvH6Diae",
        "outputId": "60db32ed-2a79-453c-fd88-b972ee7c1cd4"
      },
      "source": [
        "#Medal prediction \n",
        "z=xy[xy.columns[[0,2,3]]] \n",
        "w=xy[xy.columns[-3]] \n",
        "#print(z)\n",
        "#print(w)\n",
        "z_train, z_test, w_train, w_test = train_test_split(z, w, test_size=0.33, random_state=42)\n",
        "Clf = tree.DecisionTreeClassifier()\n",
        "#training the model\n",
        "Clf.fit(z_train,w_train)\n"
      ],
      "execution_count": null,
      "outputs": [
        {
          "output_type": "execute_result",
          "data": {
            "text/plain": [
              "DecisionTreeClassifier(ccp_alpha=0.0, class_weight=None, criterion='gini',\n",
              "                       max_depth=None, max_features=None, max_leaf_nodes=None,\n",
              "                       min_impurity_decrease=0.0, min_impurity_split=None,\n",
              "                       min_samples_leaf=1, min_samples_split=2,\n",
              "                       min_weight_fraction_leaf=0.0, presort='deprecated',\n",
              "                       random_state=None, splitter='best')"
            ]
          },
          "metadata": {
            "tags": []
          },
          "execution_count": 116
        }
      ]
    },
    {
      "cell_type": "code",
      "metadata": {
        "colab": {
          "base_uri": "https://localhost:8080/"
        },
        "id": "UjhKSIrfFLav",
        "outputId": "0a65f85e-05e4-482f-b16f-4bd8bdd06c6f"
      },
      "source": [
        "Clf.predict(z_test)\n"
      ],
      "execution_count": null,
      "outputs": [
        {
          "output_type": "execute_result",
          "data": {
            "text/plain": [
              "array([3, 1, 1, 1, 2, 1, 3, 2, 1, 3, 2, 1, 2, 1, 2, 2, 2, 1, 1, 1, 1, 1,\n",
              "       1, 2, 1, 3, 2])"
            ]
          },
          "metadata": {
            "tags": []
          },
          "execution_count": 117
        }
      ]
    },
    {
      "cell_type": "code",
      "metadata": {
        "colab": {
          "base_uri": "https://localhost:8080/"
        },
        "id": "fC6x2h1VI8t2",
        "outputId": "75291a15-8cfd-47c2-b2af-be1ff4251fa2"
      },
      "source": [
        "w_test.values"
      ],
      "execution_count": null,
      "outputs": [
        {
          "output_type": "execute_result",
          "data": {
            "text/plain": [
              "array([1, 1, 2, 2, 1, 2, 2, 1, 2, 1, 2, 1, 2, 3, 3, 1, 1, 2, 2, 2, 1, 2,\n",
              "       3, 3, 2, 3, 1])"
            ]
          },
          "metadata": {
            "tags": []
          },
          "execution_count": 118
        }
      ]
    },
    {
      "cell_type": "code",
      "metadata": {
        "colab": {
          "base_uri": "https://localhost:8080/"
        },
        "id": "t3k_W0Z9FdVL",
        "outputId": "a25f0fb0-cdae-4211-d83a-f0b721a143cc"
      },
      "source": [
        "w_pred=Clf.predict(x_test)\n",
        "print(\"Accuracy:\",accuracy_score(w_test, w_pred))"
      ],
      "execution_count": null,
      "outputs": [
        {
          "output_type": "stream",
          "text": [
            "Accuracy: 0.25925925925925924\n"
          ],
          "name": "stdout"
        }
      ]
    },
    {
      "cell_type": "code",
      "metadata": {
        "colab": {
          "base_uri": "https://localhost:8080/"
        },
        "id": "GF1cEsXDhCo1",
        "outputId": "ee4c8e35-df26-4a26-a186-ed74ef9e0dd3"
      },
      "source": [
        "from sklearn.decomposition import PCA \n",
        "algo=PCA(n_components=3)\n",
        "algo.fit(xy)\n",
        "print(algo)\n",
        "print(algo.components_)\n",
        "#our components\n",
        "print(algo.explained_variance_)"
      ],
      "execution_count": null,
      "outputs": [
        {
          "output_type": "stream",
          "text": [
            "PCA(copy=True, iterated_power='auto', n_components=3, random_state=None,\n",
            "    svd_solver='auto', tol=0.0, whiten=False)\n",
            "[[-9.99257679e-01  1.42648523e-04  3.59220589e-02  1.39167336e-02]\n",
            " [ 3.60531853e-02  5.55139442e-02  9.97724634e-01  1.28033059e-02]\n",
            " [ 4.41919929e-04 -9.92955991e-01  5.65685947e-02 -1.04106671e-01]]\n",
            "[1.37797535e+03 2.24419790e+01 6.22146526e-01]\n"
          ],
          "name": "stdout"
        }
      ]
    },
    {
      "cell_type": "code",
      "metadata": {
        "colab": {
          "base_uri": "https://localhost:8080/"
        },
        "id": "GeBfFsy6dTgk",
        "outputId": "255bd4ae-0d5c-4a9f-ba73-2dfc35d879dd"
      },
      "source": [
        "z_pca=algo.fit_transform(z_train)\n",
        "z_pca, z_test, w_train, w_test = train_test_split(z, w, test_size=0.33, random_state=42)\n",
        "Clf = tree.DecisionTreeClassifier()\n",
        "#training the model\n",
        "Clf.fit(z_pca,w_train)\n",
        "Clf.predict(z_test)\n",
        "\n",
        "\n"
      ],
      "execution_count": null,
      "outputs": [
        {
          "output_type": "execute_result",
          "data": {
            "text/plain": [
              "array([3, 1, 1, 1, 2, 1, 3, 2, 1, 3, 2, 1, 2, 1, 2, 2, 2, 1, 1, 1, 1, 1,\n",
              "       1, 2, 1, 3, 2])"
            ]
          },
          "metadata": {
            "tags": []
          },
          "execution_count": 121
        }
      ]
    },
    {
      "cell_type": "code",
      "metadata": {
        "colab": {
          "base_uri": "https://localhost:8080/"
        },
        "id": "zaftsml0pIv2",
        "outputId": "ef363756-1718-460f-bc9f-f599140f580b"
      },
      "source": [
        "w_test.values\n",
        "\n"
      ],
      "execution_count": null,
      "outputs": [
        {
          "output_type": "execute_result",
          "data": {
            "text/plain": [
              "array([1, 1, 2, 2, 1, 2, 2, 1, 2, 1, 2, 1, 2, 3, 3, 1, 1, 2, 2, 2, 1, 2,\n",
              "       3, 3, 2, 3, 1])"
            ]
          },
          "metadata": {
            "tags": []
          },
          "execution_count": 122
        }
      ]
    },
    {
      "cell_type": "code",
      "metadata": {
        "colab": {
          "base_uri": "https://localhost:8080/"
        },
        "id": "ZqTbDoOqCz9U",
        "outputId": "d4bbd0f2-6cea-4cea-b521-91cf7fb65192"
      },
      "source": [
        "from sklearn.decomposition import NMF\n",
        "algo2=NMF(n_components=3)\n",
        "algo2.fit(xy)\n",
        "print(algo)\n",
        "print(algo2.components_)\n",
        "\n"
      ],
      "execution_count": null,
      "outputs": [
        {
          "output_type": "stream",
          "text": [
            "PCA(copy=True, iterated_power='auto', n_components=3, random_state=None,\n",
            "    svd_solver='auto', tol=0.0, whiten=False)\n",
            "[[1.32340660e+02 5.41372909e-02 0.00000000e+00 6.65044886e-01]\n",
            " [1.78377557e-04 1.09648539e-01 9.28735920e+00 3.64936244e-01]\n",
            " [0.00000000e+00 6.38131505e+00 0.00000000e+00 2.26244567e+00]]\n"
          ],
          "name": "stdout"
        }
      ]
    },
    {
      "cell_type": "code",
      "metadata": {
        "colab": {
          "base_uri": "https://localhost:8080/"
        },
        "id": "DK22pxkpTAI4",
        "outputId": "bb12bb37-aaa9-4a4a-92e5-e28bdd41c810"
      },
      "source": [
        "z_mnf=algo2.fit_transform(z_train)\n",
        "z_mnf, z_test, w_train, w_test = train_test_split(z, w, test_size=0.33, random_state=42)\n",
        "Clf.fit(z_mnf,w_train)\n",
        "Clf.predict(z_test)\n",
        "\n",
        "\n"
      ],
      "execution_count": null,
      "outputs": [
        {
          "output_type": "execute_result",
          "data": {
            "text/plain": [
              "array([3, 1, 1, 1, 2, 1, 3, 2, 1, 3, 2, 1, 2, 1, 2, 2, 2, 1, 1, 1, 1, 1,\n",
              "       1, 2, 1, 3, 2])"
            ]
          },
          "metadata": {
            "tags": []
          },
          "execution_count": 124
        }
      ]
    },
    {
      "cell_type": "code",
      "metadata": {
        "colab": {
          "base_uri": "https://localhost:8080/"
        },
        "id": "zMFzCXyoTmKg",
        "outputId": "16abb2ad-c213-4f09-be36-afd3c037a3e8"
      },
      "source": [
        "w_test.values"
      ],
      "execution_count": null,
      "outputs": [
        {
          "output_type": "execute_result",
          "data": {
            "text/plain": [
              "array([1, 1, 2, 2, 1, 2, 2, 1, 2, 1, 2, 1, 2, 3, 3, 1, 1, 2, 2, 2, 1, 2,\n",
              "       3, 3, 2, 3, 1])"
            ]
          },
          "metadata": {
            "tags": []
          },
          "execution_count": 125
        }
      ]
    }
  ]
}